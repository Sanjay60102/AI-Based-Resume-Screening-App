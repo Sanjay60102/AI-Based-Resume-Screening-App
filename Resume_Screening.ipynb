{
 "cells": [
  {
   "cell_type": "markdown",
   "metadata": {},
   "source": [
    "# AI-Based Resume Screening Application"
   ]
  },
  {
   "cell_type": "code",
   "execution_count": 1,
   "metadata": {},
   "outputs": [
    {
     "data": {
      "text/html": [
       "<div>\n",
       "<style scoped>\n",
       "    .dataframe tbody tr th:only-of-type {\n",
       "        vertical-align: middle;\n",
       "    }\n",
       "\n",
       "    .dataframe tbody tr th {\n",
       "        vertical-align: top;\n",
       "    }\n",
       "\n",
       "    .dataframe thead th {\n",
       "        text-align: right;\n",
       "    }\n",
       "</style>\n",
       "<table border=\"1\" class=\"dataframe\">\n",
       "  <thead>\n",
       "    <tr style=\"text-align: right;\">\n",
       "      <th></th>\n",
       "      <th>Job Applicant Name</th>\n",
       "      <th>Age</th>\n",
       "      <th>Gender</th>\n",
       "      <th>Race</th>\n",
       "      <th>Ethnicity</th>\n",
       "      <th>Resume</th>\n",
       "      <th>Job Roles</th>\n",
       "      <th>Job Description</th>\n",
       "      <th>Best Match</th>\n",
       "    </tr>\n",
       "  </thead>\n",
       "  <tbody>\n",
       "    <tr>\n",
       "      <th>0</th>\n",
       "      <td>Daisuke Mori</td>\n",
       "      <td>29</td>\n",
       "      <td>Male</td>\n",
       "      <td>Mongoloid/Asian</td>\n",
       "      <td>Vietnamese</td>\n",
       "      <td>Proficient in Injury Prevention, Motivation, N...</td>\n",
       "      <td>Fitness Coach</td>\n",
       "      <td>A Fitness Coach is responsible for helping cl...</td>\n",
       "      <td>0</td>\n",
       "    </tr>\n",
       "    <tr>\n",
       "      <th>1</th>\n",
       "      <td>Taichi Shimizu</td>\n",
       "      <td>31</td>\n",
       "      <td>Male</td>\n",
       "      <td>Mongoloid/Asian</td>\n",
       "      <td>Filipino</td>\n",
       "      <td>Proficient in Healthcare, Pharmacology, Medica...</td>\n",
       "      <td>Physician</td>\n",
       "      <td>Diagnose and treat illnesses, prescribe medica...</td>\n",
       "      <td>0</td>\n",
       "    </tr>\n",
       "    <tr>\n",
       "      <th>2</th>\n",
       "      <td>Sarah Martin</td>\n",
       "      <td>46</td>\n",
       "      <td>Female</td>\n",
       "      <td>White/Caucasian</td>\n",
       "      <td>Dutch</td>\n",
       "      <td>Proficient in Forecasting, Financial Modelling...</td>\n",
       "      <td>Financial Analyst</td>\n",
       "      <td>As a Financial Analyst, you will be responsibl...</td>\n",
       "      <td>0</td>\n",
       "    </tr>\n",
       "    <tr>\n",
       "      <th>3</th>\n",
       "      <td>Keith Hughes</td>\n",
       "      <td>43</td>\n",
       "      <td>Male</td>\n",
       "      <td>Negroid/Black</td>\n",
       "      <td>Caribbean</td>\n",
       "      <td>Proficient in Budgeting, Supply Chain Optimiza...</td>\n",
       "      <td>Supply Chain Manager</td>\n",
       "      <td>A Supply Chain Manager oversees the entire sup...</td>\n",
       "      <td>1</td>\n",
       "    </tr>\n",
       "    <tr>\n",
       "      <th>4</th>\n",
       "      <td>James Davis</td>\n",
       "      <td>49</td>\n",
       "      <td>Male</td>\n",
       "      <td>White/Caucasian</td>\n",
       "      <td>English</td>\n",
       "      <td>Proficient in Logistics, Negotiation, Procurem...</td>\n",
       "      <td>Supply Chain Manager</td>\n",
       "      <td>A Supply Chain Manager oversees the entire sup...</td>\n",
       "      <td>1</td>\n",
       "    </tr>\n",
       "    <tr>\n",
       "      <th>...</th>\n",
       "      <td>...</td>\n",
       "      <td>...</td>\n",
       "      <td>...</td>\n",
       "      <td>...</td>\n",
       "      <td>...</td>\n",
       "      <td>...</td>\n",
       "      <td>...</td>\n",
       "      <td>...</td>\n",
       "      <td>...</td>\n",
       "    </tr>\n",
       "    <tr>\n",
       "      <th>9995</th>\n",
       "      <td>Jada Williams</td>\n",
       "      <td>30</td>\n",
       "      <td>Female</td>\n",
       "      <td>Negroid/Black</td>\n",
       "      <td>Ghanaian</td>\n",
       "      <td>Proficient in Biology, Regulatory Compliance, ...</td>\n",
       "      <td>Biomedical Engineer</td>\n",
       "      <td>A Biomedical Engineer designs and develops med...</td>\n",
       "      <td>0</td>\n",
       "    </tr>\n",
       "    <tr>\n",
       "      <th>9996</th>\n",
       "      <td>Jaden Carter</td>\n",
       "      <td>52</td>\n",
       "      <td>Male</td>\n",
       "      <td>Negroid/Black</td>\n",
       "      <td>Nigerian</td>\n",
       "      <td>Proficient in Communication, Teamwork, Lesson ...</td>\n",
       "      <td>Teacher</td>\n",
       "      <td>A Teacher shapes the future of students by del...</td>\n",
       "      <td>0</td>\n",
       "    </tr>\n",
       "    <tr>\n",
       "      <th>9997</th>\n",
       "      <td>Mia Foster</td>\n",
       "      <td>25</td>\n",
       "      <td>Female</td>\n",
       "      <td>White/Caucasian</td>\n",
       "      <td>German</td>\n",
       "      <td>Proficient in Medical Terminology, Critical Th...</td>\n",
       "      <td>Physician</td>\n",
       "      <td>Diagnose and treat illnesses, prescribe medica...</td>\n",
       "      <td>0</td>\n",
       "    </tr>\n",
       "    <tr>\n",
       "      <th>9998</th>\n",
       "      <td>Stella Green</td>\n",
       "      <td>51</td>\n",
       "      <td>Female</td>\n",
       "      <td>White/Caucasian</td>\n",
       "      <td>Irish</td>\n",
       "      <td>Proficient in Exercise Programming, Motivation...</td>\n",
       "      <td>Fitness Coach</td>\n",
       "      <td>A Fitness Coach is responsible for helping cl...</td>\n",
       "      <td>1</td>\n",
       "    </tr>\n",
       "    <tr>\n",
       "      <th>9999</th>\n",
       "      <td>Ryo Nishida</td>\n",
       "      <td>46</td>\n",
       "      <td>Male</td>\n",
       "      <td>Mongoloid/Asian</td>\n",
       "      <td>Thai</td>\n",
       "      <td>Proficient in Content Strategy, Copywriting, C...</td>\n",
       "      <td>Content Writer</td>\n",
       "      <td>As a Content Writer, you will create written m...</td>\n",
       "      <td>0</td>\n",
       "    </tr>\n",
       "  </tbody>\n",
       "</table>\n",
       "<p>10000 rows × 9 columns</p>\n",
       "</div>"
      ],
      "text/plain": [
       "     Job Applicant Name  Age  Gender             Race   Ethnicity  \\\n",
       "0          Daisuke Mori   29    Male  Mongoloid/Asian  Vietnamese   \n",
       "1        Taichi Shimizu   31    Male  Mongoloid/Asian    Filipino   \n",
       "2          Sarah Martin   46  Female  White/Caucasian       Dutch   \n",
       "3          Keith Hughes   43    Male    Negroid/Black   Caribbean   \n",
       "4           James Davis   49    Male  White/Caucasian     English   \n",
       "...                 ...  ...     ...              ...         ...   \n",
       "9995      Jada Williams   30  Female    Negroid/Black    Ghanaian   \n",
       "9996       Jaden Carter   52    Male    Negroid/Black    Nigerian   \n",
       "9997         Mia Foster   25  Female  White/Caucasian      German   \n",
       "9998       Stella Green   51  Female  White/Caucasian       Irish   \n",
       "9999        Ryo Nishida   46    Male  Mongoloid/Asian        Thai   \n",
       "\n",
       "                                                 Resume             Job Roles  \\\n",
       "0     Proficient in Injury Prevention, Motivation, N...         Fitness Coach   \n",
       "1     Proficient in Healthcare, Pharmacology, Medica...             Physician   \n",
       "2     Proficient in Forecasting, Financial Modelling...     Financial Analyst   \n",
       "3     Proficient in Budgeting, Supply Chain Optimiza...  Supply Chain Manager   \n",
       "4     Proficient in Logistics, Negotiation, Procurem...  Supply Chain Manager   \n",
       "...                                                 ...                   ...   \n",
       "9995  Proficient in Biology, Regulatory Compliance, ...   Biomedical Engineer   \n",
       "9996  Proficient in Communication, Teamwork, Lesson ...               Teacher   \n",
       "9997  Proficient in Medical Terminology, Critical Th...             Physician   \n",
       "9998  Proficient in Exercise Programming, Motivation...         Fitness Coach   \n",
       "9999  Proficient in Content Strategy, Copywriting, C...        Content Writer   \n",
       "\n",
       "                                        Job Description  Best Match  \n",
       "0      A Fitness Coach is responsible for helping cl...           0  \n",
       "1     Diagnose and treat illnesses, prescribe medica...           0  \n",
       "2     As a Financial Analyst, you will be responsibl...           0  \n",
       "3     A Supply Chain Manager oversees the entire sup...           1  \n",
       "4     A Supply Chain Manager oversees the entire sup...           1  \n",
       "...                                                 ...         ...  \n",
       "9995  A Biomedical Engineer designs and develops med...           0  \n",
       "9996  A Teacher shapes the future of students by del...           0  \n",
       "9997  Diagnose and treat illnesses, prescribe medica...           0  \n",
       "9998   A Fitness Coach is responsible for helping cl...           1  \n",
       "9999  As a Content Writer, you will create written m...           0  \n",
       "\n",
       "[10000 rows x 9 columns]"
      ]
     },
     "execution_count": 1,
     "metadata": {},
     "output_type": "execute_result"
    }
   ],
   "source": [
    "import pandas as pd\n",
    "import numpy as np\n",
    "\n",
    "df = pd.read_csv(\"job_applicant_dataset.csv\")\n",
    "df"
   ]
  },
  {
   "cell_type": "markdown",
   "metadata": {},
   "source": [
    "Get Unique Job Roles from the Dataset"
   ]
  },
  {
   "cell_type": "code",
   "execution_count": 2,
   "metadata": {},
   "outputs": [
    {
     "data": {
      "text/plain": [
       "array(['Fitness Coach', 'Physician', 'Financial Analyst',\n",
       "       'Supply Chain Manager', 'Database Administrator', 'Architect',\n",
       "       'Operations Manager', 'Cybersecurity Analyst', 'Software Engineer',\n",
       "       'Urban Planner', 'Machine Learning Engineer', 'Personal Trainer',\n",
       "       'Biomedical Engineer', 'Nurse', 'Systems Analyst',\n",
       "       'Product Manager', 'Content Writer', 'Pharmacist', 'Chef',\n",
       "       'AI Researcher', 'Data Analyst', 'Psychologist', 'Civil Engineer',\n",
       "       'Accountant', 'Graphic Designer', 'Web Developer',\n",
       "       'Cloud Architect', 'AI Specialist', 'Dentist', 'Pilot',\n",
       "       'UX Designer', 'Teacher', 'HR Specialist', 'Veterinarian',\n",
       "       'Environmental Scientist', 'Legal Consultant',\n",
       "       'Sales Representative', 'Robotics Engineer', 'SEO Specialist',\n",
       "       'Business Analyst', 'Customer Service Representative',\n",
       "       'Marketing Manager', 'Social Worker', 'Electrician', 'Journalist',\n",
       "       'Event Planner', 'Lawyer', 'Mechanical Engineer',\n",
       "       'Construction Manager', 'Research Scientist', 'Creative Director'],\n",
       "      dtype=object)"
      ]
     },
     "execution_count": 2,
     "metadata": {},
     "output_type": "execute_result"
    }
   ],
   "source": [
    "df['Job Roles'].unique()"
   ]
  },
  {
   "cell_type": "markdown",
   "metadata": {},
   "source": [
    "Check Data Types of DataFrame Columns"
   ]
  },
  {
   "cell_type": "code",
   "execution_count": 3,
   "metadata": {},
   "outputs": [
    {
     "data": {
      "text/plain": [
       "Job Applicant Name    object\n",
       "Age                    int64\n",
       "Gender                object\n",
       "Race                  object\n",
       "Ethnicity             object\n",
       "Resume                object\n",
       "Job Roles             object\n",
       "Job Description       object\n",
       "Best Match             int64\n",
       "dtype: object"
      ]
     },
     "execution_count": 3,
     "metadata": {},
     "output_type": "execute_result"
    }
   ],
   "source": [
    "df.dtypes"
   ]
  },
  {
   "cell_type": "markdown",
   "metadata": {},
   "source": [
    "Display Summary Information About the DataFrame"
   ]
  },
  {
   "cell_type": "code",
   "execution_count": 4,
   "metadata": {},
   "outputs": [
    {
     "name": "stdout",
     "output_type": "stream",
     "text": [
      "<class 'pandas.core.frame.DataFrame'>\n",
      "RangeIndex: 10000 entries, 0 to 9999\n",
      "Data columns (total 9 columns):\n",
      " #   Column              Non-Null Count  Dtype \n",
      "---  ------              --------------  ----- \n",
      " 0   Job Applicant Name  10000 non-null  object\n",
      " 1   Age                 10000 non-null  int64 \n",
      " 2   Gender              10000 non-null  object\n",
      " 3   Race                10000 non-null  object\n",
      " 4   Ethnicity           10000 non-null  object\n",
      " 5   Resume              10000 non-null  object\n",
      " 6   Job Roles           10000 non-null  object\n",
      " 7   Job Description     10000 non-null  object\n",
      " 8   Best Match          10000 non-null  int64 \n",
      "dtypes: int64(2), object(7)\n",
      "memory usage: 703.3+ KB\n"
     ]
    }
   ],
   "source": [
    "df.info()"
   ]
  },
  {
   "cell_type": "markdown",
   "metadata": {},
   "source": [
    "Count Missing Values in Each Column"
   ]
  },
  {
   "cell_type": "code",
   "execution_count": 5,
   "metadata": {},
   "outputs": [
    {
     "data": {
      "text/plain": [
       "Job Applicant Name    0\n",
       "Age                   0\n",
       "Gender                0\n",
       "Race                  0\n",
       "Ethnicity             0\n",
       "Resume                0\n",
       "Job Roles             0\n",
       "Job Description       0\n",
       "Best Match            0\n",
       "dtype: int64"
      ]
     },
     "execution_count": 5,
     "metadata": {},
     "output_type": "execute_result"
    }
   ],
   "source": [
    "# Check for missing values\n",
    "df.isnull().sum()"
   ]
  },
  {
   "cell_type": "markdown",
   "metadata": {},
   "source": [
    "Count Duplicate Rows in the DataFrame"
   ]
  },
  {
   "cell_type": "code",
   "execution_count": 6,
   "metadata": {},
   "outputs": [
    {
     "name": "stdout",
     "output_type": "stream",
     "text": [
      "Number of duplicates rows 0\n"
     ]
    }
   ],
   "source": [
    "# Check for duplicates\n",
    "duplicates = df.duplicated().sum()\n",
    "print(\"Number of duplicates rows\",duplicates)"
   ]
  },
  {
   "cell_type": "markdown",
   "metadata": {},
   "source": [
    "Count Negative Values in Numeric Columns"
   ]
  },
  {
   "cell_type": "code",
   "execution_count": 7,
   "metadata": {},
   "outputs": [
    {
     "data": {
      "text/plain": [
       "Age           0\n",
       "Best Match    0\n",
       "dtype: int64"
      ]
     },
     "execution_count": 7,
     "metadata": {},
     "output_type": "execute_result"
    }
   ],
   "source": [
    "# Check for negative values in numeric columns\n",
    "numeric_df= df.select_dtypes(include=['number'])\n",
    " \n",
    "negative_counts=(numeric_df < 0).sum()\n",
    " \n",
    "negative_counts"
   ]
  },
  {
   "cell_type": "markdown",
   "metadata": {},
   "source": [
    "Count of Each Category in 'Best Match' Column"
   ]
  },
  {
   "cell_type": "code",
   "execution_count": 8,
   "metadata": {},
   "outputs": [
    {
     "data": {
      "text/plain": [
       "Best Match\n",
       "0    5150\n",
       "1    4850\n",
       "Name: count, dtype: int64"
      ]
     },
     "execution_count": 8,
     "metadata": {},
     "output_type": "execute_result"
    }
   ],
   "source": [
    "# Count of Each Category in 'Best Match' Column\n",
    "df[\"Best Match\"].value_counts()"
   ]
  },
  {
   "cell_type": "markdown",
   "metadata": {},
   "source": [
    "Boxplot of Numeric Columns to Detect Outliers"
   ]
  },
  {
   "cell_type": "code",
   "execution_count": 9,
   "metadata": {},
   "outputs": [
    {
     "data": {
      "image/png": "[encoded data removed]",
      "text/plain": [
       "<Figure size 1500x800 with 1 Axes>"
      ]
     },
     "metadata": {},
     "output_type": "display_data"
    }
   ],
   "source": [
    "# Check for outliers using boxplot\n",
    "import matplotlib.pyplot as plt\n",
    "numeric_colums = [\"Age\", \"Best Match\"]\n",
    "\n",
    "plt.figure(figsize=(15,8))\n",
    "df[numeric_colums].boxplot(rot=45)\n",
    "plt.title(\"Boxplot to Detect Outliers in Age and Best Match\")\n",
    "plt.ylabel(\"Values\", fontsize=14)\n",
    "plt.xlabel(\"Features\", fontsize=14)\n",
    "\n",
    "plt.show()"
   ]
  },
  {
   "cell_type": "markdown",
   "metadata": {},
   "source": [
    "Text Preprocessing for Resume and Job Description Columns"
   ]
  },
  {
   "cell_type": "code",
   "execution_count": 10,
   "metadata": {},
   "outputs": [
    {
     "name": "stderr",
     "output_type": "stream",
     "text": [
      "[nltk_data] Downloading package stopwords to\n",
      "[nltk_data]     C:\\Users\\SanjaySiramdasu\\AppData\\Roaming\\nltk_data...\n",
      "[nltk_data]   Package stopwords is already up-to-date!\n",
      "[nltk_data] Downloading package punkt to\n",
      "[nltk_data]     C:\\Users\\SanjaySiramdasu\\AppData\\Roaming\\nltk_data...\n",
      "[nltk_data]   Package punkt is already up-to-date!\n",
      "[nltk_data] Downloading package wordnet to\n",
      "[nltk_data]     C:\\Users\\SanjaySiramdasu\\AppData\\Roaming\\nltk_data...\n",
      "[nltk_data]   Package wordnet is already up-to-date!\n"
     ]
    }
   ],
   "source": [
    "import re # For using regular expressions to clean text.\n",
    "import nltk\n",
    "from nltk.corpus import stopwords # stopwords: To remove commonly used words that may not carry meaningful information (e.g., \"the\", \"and\", \"is\").\n",
    "from nltk.tokenize import word_tokenize # word_tokenize: To split text into individual words (tokens).\n",
    "from nltk.stem import PorterStemmer, WordNetLemmatizer # PorterStemmer: To reduce words to their root form (e.g., \"running\" to \"run\"). WordNetLemmatizer: To convert words to their base or dictionary form (e.g., \"better\" to \"good\").\n",
    "\n",
    "# Download necessary NLTK resources\n",
    "nltk.download(\"stopwords\") # Download the stopwords corpus.\n",
    "nltk.download(\"punkt\") # re-trained tokenizer model.\n",
    "nltk.download(\"wordnet\") # Download the WordNet corpus for lemmatization.\n",
    "\n",
    "# Initialize stopwords, stemmer, and lemmatizer\n",
    "stop_words = set(stopwords.words(\"english\")) # Set of English stopwords.\n",
    "stemmer = PorterStemmer() \n",
    "lemmatizer = WordNetLemmatizer()\n",
    "\n",
    "def preprocess_text(text):\n",
    "    if not isinstance(text, str):  # Ensure text is a string\n",
    "        return \"\"\n",
    "\n",
    "    # Convert to lowercase\n",
    "    text = text.lower()\n",
    "\n",
    "    # Remove special characters, numbers, and punctuation\n",
    "    text = re.sub(r\"[^a-zA-Z\\s]\", \"\", text)\n",
    "\n",
    "    # Tokenize words\n",
    "    words = word_tokenize(text)\n",
    "\n",
    "    # Remove stopwords\n",
    "    words = [word for word in words if word not in stop_words]\n",
    "\n",
    "    # Apply  lemmatization\n",
    "    words = [lemmatizer.lemmatize(word) for word in words]\n",
    "\n",
    "    # Join words back into a string\n",
    "    return \" \".join(words)\n",
    "\n",
    "# Apply text preprocessing to Resume and Job Description columns\n",
    "df[\"Resume\"] = df[\"Resume\"].apply(preprocess_text)\n",
    "df[\"Job Description\"] = df[\"Job Description\"].apply(preprocess_text)"
   ]
  },
  {
   "cell_type": "code",
   "execution_count": 11,
   "metadata": {},
   "outputs": [
    {
     "data": {
      "text/html": [
       "<div>\n",
       "<style scoped>\n",
       "    .dataframe tbody tr th:only-of-type {\n",
       "        vertical-align: middle;\n",
       "    }\n",
       "\n",
       "    .dataframe tbody tr th {\n",
       "        vertical-align: top;\n",
       "    }\n",
       "\n",
       "    .dataframe thead th {\n",
       "        text-align: right;\n",
       "    }\n",
       "</style>\n",
       "<table border=\"1\" class=\"dataframe\">\n",
       "  <thead>\n",
       "    <tr style=\"text-align: right;\">\n",
       "      <th></th>\n",
       "      <th>Job Applicant Name</th>\n",
       "      <th>Age</th>\n",
       "      <th>Gender</th>\n",
       "      <th>Race</th>\n",
       "      <th>Ethnicity</th>\n",
       "      <th>Resume</th>\n",
       "      <th>Job Roles</th>\n",
       "      <th>Job Description</th>\n",
       "      <th>Best Match</th>\n",
       "    </tr>\n",
       "  </thead>\n",
       "  <tbody>\n",
       "    <tr>\n",
       "      <th>0</th>\n",
       "      <td>Daisuke Mori</td>\n",
       "      <td>29</td>\n",
       "      <td>Male</td>\n",
       "      <td>Mongoloid/Asian</td>\n",
       "      <td>Vietnamese</td>\n",
       "      <td>proficient injury prevention motivation nutrit...</td>\n",
       "      <td>Fitness Coach</td>\n",
       "      <td>fitness coach responsible helping client achie...</td>\n",
       "      <td>0</td>\n",
       "    </tr>\n",
       "    <tr>\n",
       "      <th>1</th>\n",
       "      <td>Taichi Shimizu</td>\n",
       "      <td>31</td>\n",
       "      <td>Male</td>\n",
       "      <td>Mongoloid/Asian</td>\n",
       "      <td>Filipino</td>\n",
       "      <td>proficient healthcare pharmacology medical ter...</td>\n",
       "      <td>Physician</td>\n",
       "      <td>diagnose treat illness prescribe medication pr...</td>\n",
       "      <td>0</td>\n",
       "    </tr>\n",
       "    <tr>\n",
       "      <th>2</th>\n",
       "      <td>Sarah Martin</td>\n",
       "      <td>46</td>\n",
       "      <td>Female</td>\n",
       "      <td>White/Caucasian</td>\n",
       "      <td>Dutch</td>\n",
       "      <td>proficient forecasting financial modelling exc...</td>\n",
       "      <td>Financial Analyst</td>\n",
       "      <td>financial analyst responsible evaluating finan...</td>\n",
       "      <td>0</td>\n",
       "    </tr>\n",
       "    <tr>\n",
       "      <th>3</th>\n",
       "      <td>Keith Hughes</td>\n",
       "      <td>43</td>\n",
       "      <td>Male</td>\n",
       "      <td>Negroid/Black</td>\n",
       "      <td>Caribbean</td>\n",
       "      <td>proficient budgeting supply chain optimization...</td>\n",
       "      <td>Supply Chain Manager</td>\n",
       "      <td>supply chain manager oversees entire supply ch...</td>\n",
       "      <td>1</td>\n",
       "    </tr>\n",
       "    <tr>\n",
       "      <th>4</th>\n",
       "      <td>James Davis</td>\n",
       "      <td>49</td>\n",
       "      <td>Male</td>\n",
       "      <td>White/Caucasian</td>\n",
       "      <td>English</td>\n",
       "      <td>proficient logistics negotiation procurement s...</td>\n",
       "      <td>Supply Chain Manager</td>\n",
       "      <td>supply chain manager oversees entire supply ch...</td>\n",
       "      <td>1</td>\n",
       "    </tr>\n",
       "  </tbody>\n",
       "</table>\n",
       "</div>"
      ],
      "text/plain": [
       "  Job Applicant Name  Age  Gender             Race   Ethnicity  \\\n",
       "0       Daisuke Mori   29    Male  Mongoloid/Asian  Vietnamese   \n",
       "1     Taichi Shimizu   31    Male  Mongoloid/Asian    Filipino   \n",
       "2       Sarah Martin   46  Female  White/Caucasian       Dutch   \n",
       "3       Keith Hughes   43    Male    Negroid/Black   Caribbean   \n",
       "4        James Davis   49    Male  White/Caucasian     English   \n",
       "\n",
       "                                              Resume             Job Roles  \\\n",
       "0  proficient injury prevention motivation nutrit...         Fitness Coach   \n",
       "1  proficient healthcare pharmacology medical ter...             Physician   \n",
       "2  proficient forecasting financial modelling exc...     Financial Analyst   \n",
       "3  proficient budgeting supply chain optimization...  Supply Chain Manager   \n",
       "4  proficient logistics negotiation procurement s...  Supply Chain Manager   \n",
       "\n",
       "                                     Job Description  Best Match  \n",
       "0  fitness coach responsible helping client achie...           0  \n",
       "1  diagnose treat illness prescribe medication pr...           0  \n",
       "2  financial analyst responsible evaluating finan...           0  \n",
       "3  supply chain manager oversees entire supply ch...           1  \n",
       "4  supply chain manager oversees entire supply ch...           1  "
      ]
     },
     "execution_count": 11,
     "metadata": {},
     "output_type": "execute_result"
    }
   ],
   "source": [
    "df.head()"
   ]
  },
  {
   "cell_type": "code",
   "execution_count": 12,
   "metadata": {},
   "outputs": [
    {
     "data": {
      "text/html": [
       "<div>\n",
       "<style scoped>\n",
       "    .dataframe tbody tr th:only-of-type {\n",
       "        vertical-align: middle;\n",
       "    }\n",
       "\n",
       "    .dataframe tbody tr th {\n",
       "        vertical-align: top;\n",
       "    }\n",
       "\n",
       "    .dataframe thead th {\n",
       "        text-align: right;\n",
       "    }\n",
       "</style>\n",
       "<table border=\"1\" class=\"dataframe\">\n",
       "  <thead>\n",
       "    <tr style=\"text-align: right;\">\n",
       "      <th></th>\n",
       "      <th>Age</th>\n",
       "      <th>Gender</th>\n",
       "      <th>Resume</th>\n",
       "      <th>Job Roles</th>\n",
       "      <th>Job Description</th>\n",
       "      <th>Best Match</th>\n",
       "    </tr>\n",
       "  </thead>\n",
       "  <tbody>\n",
       "    <tr>\n",
       "      <th>0</th>\n",
       "      <td>29</td>\n",
       "      <td>Male</td>\n",
       "      <td>proficient injury prevention motivation nutrit...</td>\n",
       "      <td>Fitness Coach</td>\n",
       "      <td>fitness coach responsible helping client achie...</td>\n",
       "      <td>0</td>\n",
       "    </tr>\n",
       "    <tr>\n",
       "      <th>1</th>\n",
       "      <td>31</td>\n",
       "      <td>Male</td>\n",
       "      <td>proficient healthcare pharmacology medical ter...</td>\n",
       "      <td>Physician</td>\n",
       "      <td>diagnose treat illness prescribe medication pr...</td>\n",
       "      <td>0</td>\n",
       "    </tr>\n",
       "    <tr>\n",
       "      <th>2</th>\n",
       "      <td>46</td>\n",
       "      <td>Female</td>\n",
       "      <td>proficient forecasting financial modelling exc...</td>\n",
       "      <td>Financial Analyst</td>\n",
       "      <td>financial analyst responsible evaluating finan...</td>\n",
       "      <td>0</td>\n",
       "    </tr>\n",
       "    <tr>\n",
       "      <th>3</th>\n",
       "      <td>43</td>\n",
       "      <td>Male</td>\n",
       "      <td>proficient budgeting supply chain optimization...</td>\n",
       "      <td>Supply Chain Manager</td>\n",
       "      <td>supply chain manager oversees entire supply ch...</td>\n",
       "      <td>1</td>\n",
       "    </tr>\n",
       "    <tr>\n",
       "      <th>4</th>\n",
       "      <td>49</td>\n",
       "      <td>Male</td>\n",
       "      <td>proficient logistics negotiation procurement s...</td>\n",
       "      <td>Supply Chain Manager</td>\n",
       "      <td>supply chain manager oversees entire supply ch...</td>\n",
       "      <td>1</td>\n",
       "    </tr>\n",
       "  </tbody>\n",
       "</table>\n",
       "</div>"
      ],
      "text/plain": [
       "   Age  Gender                                             Resume  \\\n",
       "0   29    Male  proficient injury prevention motivation nutrit...   \n",
       "1   31    Male  proficient healthcare pharmacology medical ter...   \n",
       "2   46  Female  proficient forecasting financial modelling exc...   \n",
       "3   43    Male  proficient budgeting supply chain optimization...   \n",
       "4   49    Male  proficient logistics negotiation procurement s...   \n",
       "\n",
       "              Job Roles                                    Job Description  \\\n",
       "0         Fitness Coach  fitness coach responsible helping client achie...   \n",
       "1             Physician  diagnose treat illness prescribe medication pr...   \n",
       "2     Financial Analyst  financial analyst responsible evaluating finan...   \n",
       "3  Supply Chain Manager  supply chain manager oversees entire supply ch...   \n",
       "4  Supply Chain Manager  supply chain manager oversees entire supply ch...   \n",
       "\n",
       "   Best Match  \n",
       "0           0  \n",
       "1           0  \n",
       "2           0  \n",
       "3           1  \n",
       "4           1  "
      ]
     },
     "execution_count": 12,
     "metadata": {},
     "output_type": "execute_result"
    }
   ],
   "source": [
    "# Drop unnecessary columns\n",
    "df = df.drop(columns=[\"Job Applicant Name\", \"Race\", \"Ethnicity\"])\n",
    "df.head()"
   ]
  },
  {
   "cell_type": "markdown",
   "metadata": {},
   "source": [
    "Encode Categorical Columns 'Job Roles' and 'Gender' Using Label Encoding"
   ]
  },
  {
   "cell_type": "code",
   "execution_count": 13,
   "metadata": {},
   "outputs": [
    {
     "data": {
      "text/html": [
       "<div>\n",
       "<style scoped>\n",
       "    .dataframe tbody tr th:only-of-type {\n",
       "        vertical-align: middle;\n",
       "    }\n",
       "\n",
       "    .dataframe tbody tr th {\n",
       "        vertical-align: top;\n",
       "    }\n",
       "\n",
       "    .dataframe thead th {\n",
       "        text-align: right;\n",
       "    }\n",
       "</style>\n",
       "<table border=\"1\" class=\"dataframe\">\n",
       "  <thead>\n",
       "    <tr style=\"text-align: right;\">\n",
       "      <th></th>\n",
       "      <th>Age</th>\n",
       "      <th>Gender</th>\n",
       "      <th>Resume</th>\n",
       "      <th>Job Roles</th>\n",
       "      <th>Job Description</th>\n",
       "      <th>Best Match</th>\n",
       "    </tr>\n",
       "  </thead>\n",
       "  <tbody>\n",
       "    <tr>\n",
       "      <th>0</th>\n",
       "      <td>29</td>\n",
       "      <td>1</td>\n",
       "      <td>proficient injury prevention motivation nutrit...</td>\n",
       "      <td>21</td>\n",
       "      <td>fitness coach responsible helping client achie...</td>\n",
       "      <td>0</td>\n",
       "    </tr>\n",
       "    <tr>\n",
       "      <th>1</th>\n",
       "      <td>31</td>\n",
       "      <td>1</td>\n",
       "      <td>proficient healthcare pharmacology medical ter...</td>\n",
       "      <td>34</td>\n",
       "      <td>diagnose treat illness prescribe medication pr...</td>\n",
       "      <td>0</td>\n",
       "    </tr>\n",
       "    <tr>\n",
       "      <th>2</th>\n",
       "      <td>46</td>\n",
       "      <td>0</td>\n",
       "      <td>proficient forecasting financial modelling exc...</td>\n",
       "      <td>20</td>\n",
       "      <td>financial analyst responsible evaluating finan...</td>\n",
       "      <td>0</td>\n",
       "    </tr>\n",
       "    <tr>\n",
       "      <th>3</th>\n",
       "      <td>43</td>\n",
       "      <td>1</td>\n",
       "      <td>proficient budgeting supply chain optimization...</td>\n",
       "      <td>44</td>\n",
       "      <td>supply chain manager oversees entire supply ch...</td>\n",
       "      <td>1</td>\n",
       "    </tr>\n",
       "    <tr>\n",
       "      <th>4</th>\n",
       "      <td>49</td>\n",
       "      <td>1</td>\n",
       "      <td>proficient logistics negotiation procurement s...</td>\n",
       "      <td>44</td>\n",
       "      <td>supply chain manager oversees entire supply ch...</td>\n",
       "      <td>1</td>\n",
       "    </tr>\n",
       "  </tbody>\n",
       "</table>\n",
       "</div>"
      ],
      "text/plain": [
       "   Age  Gender                                             Resume  Job Roles  \\\n",
       "0   29       1  proficient injury prevention motivation nutrit...         21   \n",
       "1   31       1  proficient healthcare pharmacology medical ter...         34   \n",
       "2   46       0  proficient forecasting financial modelling exc...         20   \n",
       "3   43       1  proficient budgeting supply chain optimization...         44   \n",
       "4   49       1  proficient logistics negotiation procurement s...         44   \n",
       "\n",
       "                                     Job Description  Best Match  \n",
       "0  fitness coach responsible helping client achie...           0  \n",
       "1  diagnose treat illness prescribe medication pr...           0  \n",
       "2  financial analyst responsible evaluating finan...           0  \n",
       "3  supply chain manager oversees entire supply ch...           1  \n",
       "4  supply chain manager oversees entire supply ch...           1  "
      ]
     },
     "execution_count": 13,
     "metadata": {},
     "output_type": "execute_result"
    }
   ],
   "source": [
    "# Step 1: Convert Job Roles, Gender into Numerical Values\n",
    "from sklearn.preprocessing import LabelEncoder\n",
    "\n",
    "label_encoder_gender = LabelEncoder()\n",
    "label_encoder_jobrole = LabelEncoder()\n",
    "df[\"Job Roles\"] = label_encoder_jobrole.fit_transform(df[\"Job Roles\"])\n",
    "df[\"Gender\"] = label_encoder_gender.fit_transform(df[\"Gender\"])\n",
    "df.head()"
   ]
  },
  {
   "cell_type": "code",
   "execution_count": 14,
   "metadata": {},
   "outputs": [
    {
     "data": {
      "text/html": [
       "<div>\n",
       "<style scoped>\n",
       "    .dataframe tbody tr th:only-of-type {\n",
       "        vertical-align: middle;\n",
       "    }\n",
       "\n",
       "    .dataframe tbody tr th {\n",
       "        vertical-align: top;\n",
       "    }\n",
       "\n",
       "    .dataframe thead th {\n",
       "        text-align: right;\n",
       "    }\n",
       "</style>\n",
       "<table border=\"1\" class=\"dataframe\">\n",
       "  <thead>\n",
       "    <tr style=\"text-align: right;\">\n",
       "      <th></th>\n",
       "      <th>Age</th>\n",
       "      <th>Gender</th>\n",
       "      <th>Resume</th>\n",
       "      <th>Job Roles</th>\n",
       "      <th>Job Description</th>\n",
       "      <th>Best Match</th>\n",
       "    </tr>\n",
       "  </thead>\n",
       "  <tbody>\n",
       "    <tr>\n",
       "      <th>0</th>\n",
       "      <td>-1.234037</td>\n",
       "      <td>1</td>\n",
       "      <td>proficient injury prevention motivation nutrit...</td>\n",
       "      <td>21</td>\n",
       "      <td>fitness coach responsible helping client achie...</td>\n",
       "      <td>0</td>\n",
       "    </tr>\n",
       "    <tr>\n",
       "      <th>1</th>\n",
       "      <td>-1.010585</td>\n",
       "      <td>1</td>\n",
       "      <td>proficient healthcare pharmacology medical ter...</td>\n",
       "      <td>34</td>\n",
       "      <td>diagnose treat illness prescribe medication pr...</td>\n",
       "      <td>0</td>\n",
       "    </tr>\n",
       "    <tr>\n",
       "      <th>2</th>\n",
       "      <td>0.665306</td>\n",
       "      <td>0</td>\n",
       "      <td>proficient forecasting financial modelling exc...</td>\n",
       "      <td>20</td>\n",
       "      <td>financial analyst responsible evaluating finan...</td>\n",
       "      <td>0</td>\n",
       "    </tr>\n",
       "    <tr>\n",
       "      <th>3</th>\n",
       "      <td>0.330128</td>\n",
       "      <td>1</td>\n",
       "      <td>proficient budgeting supply chain optimization...</td>\n",
       "      <td>44</td>\n",
       "      <td>supply chain manager oversees entire supply ch...</td>\n",
       "      <td>1</td>\n",
       "    </tr>\n",
       "    <tr>\n",
       "      <th>4</th>\n",
       "      <td>1.000485</td>\n",
       "      <td>1</td>\n",
       "      <td>proficient logistics negotiation procurement s...</td>\n",
       "      <td>44</td>\n",
       "      <td>supply chain manager oversees entire supply ch...</td>\n",
       "      <td>1</td>\n",
       "    </tr>\n",
       "  </tbody>\n",
       "</table>\n",
       "</div>"
      ],
      "text/plain": [
       "        Age  Gender                                             Resume  \\\n",
       "0 -1.234037       1  proficient injury prevention motivation nutrit...   \n",
       "1 -1.010585       1  proficient healthcare pharmacology medical ter...   \n",
       "2  0.665306       0  proficient forecasting financial modelling exc...   \n",
       "3  0.330128       1  proficient budgeting supply chain optimization...   \n",
       "4  1.000485       1  proficient logistics negotiation procurement s...   \n",
       "\n",
       "   Job Roles                                    Job Description  Best Match  \n",
       "0         21  fitness coach responsible helping client achie...           0  \n",
       "1         34  diagnose treat illness prescribe medication pr...           0  \n",
       "2         20  financial analyst responsible evaluating finan...           0  \n",
       "3         44  supply chain manager oversees entire supply ch...           1  \n",
       "4         44  supply chain manager oversees entire supply ch...           1  "
      ]
     },
     "execution_count": 14,
     "metadata": {},
     "output_type": "execute_result"
    }
   ],
   "source": [
    "# Step 2: Scale numerical column\n",
    "from sklearn.preprocessing import StandardScaler\n",
    "\n",
    "scaler = StandardScaler()\n",
    "df[\"Age\"] = scaler.fit_transform(df[[\"Age\"]])  # 2D input for scaler\n",
    "df.head()"
   ]
  },
  {
   "cell_type": "markdown",
   "metadata": {},
   "source": [
    "We apply **TF-IDF (Term Frequency–Inverse Document Frequency)** vectorization to the text in the **Resume** and **Job Description** columns. \n",
    "\n",
    "This converts the textual data into numerical feature vectors that can be used in machine learning models.\n",
    "\n",
    "*max_features=5000* : Limits the number of unique words (features) to the top 5000 most important words (based on frequency).\n"
   ]
  },
  {
   "cell_type": "code",
   "execution_count": 15,
   "metadata": {},
   "outputs": [
    {
     "name": "stdout",
     "output_type": "stream",
     "text": [
      "TF-IDF transformation applied to Resume and Job Description columns successfully!\n"
     ]
    }
   ],
   "source": [
    "# Step 3: TF-IDF for Resume & Job Description\n",
    "from sklearn.feature_extraction.text import TfidfVectorizer\n",
    "\n",
    "combined_text = pd.concat([df[\"Resume\"], df[\"Job Description\"]]) # Combine the text from both columns for TF-IDF vectorization\n",
    "# Initialize TF-IDF Vectorizer with a maximum of 5000 features\n",
    "vectorizer = TfidfVectorizer(max_features=5000)\n",
    "# Fit the vectorizer on the combined text\n",
    "vectorizer.fit(combined_text)\n",
    "\n",
    "# Transform the combined text into TF-IDF features\n",
    "resume_vec = vectorizer.transform(df[\"Resume\"]).toarray()\n",
    "job_desc_vec = vectorizer.transform(df[\"Job Description\"]).toarray()\n",
    "print(\"TF-IDF transformation applied to Resume and Job Description columns successfully!\")"
   ]
  },
  {
   "cell_type": "markdown",
   "metadata": {},
   "source": [
    "Combine TF-IDF Features and Split Data into Training and Testing Sets"
   ]
  },
  {
   "cell_type": "code",
   "execution_count": 16,
   "metadata": {},
   "outputs": [
    {
     "name": "stdout",
     "output_type": "stream",
     "text": [
      "Training and testing sets created successfully\n"
     ]
    }
   ],
   "source": [
    "# Step 4: Combine all features\n",
    "from sklearn.model_selection import train_test_split\n",
    "\n",
    "# numeric_features = df[[\"Age\", \"Gender\", \"Job Roles\"]].values\n",
    "X = np.hstack((resume_vec, job_desc_vec))\n",
    "y = df[\"Best Match\"]\n",
    "\n",
    "# Step 5: Train/Test Split\n",
    "X_train, X_test, y_train, y_test = train_test_split(X, y, test_size=0.2, random_state=42)\n",
    "print(\"Training and testing sets created successfully\")"
   ]
  },
  {
   "cell_type": "markdown",
   "metadata": {},
   "source": [
    "Training XGBClassifier model"
   ]
  },
  {
   "cell_type": "code",
   "execution_count": 17,
   "metadata": {},
   "outputs": [
    {
     "name": "stdout",
     "output_type": "stream",
     "text": [
      "Accuracy: 0.531\n",
      "Precision: 0.5305980396182594\n",
      "Recall: 0.5305676702975874\n",
      "F1-Score: 0.5305488574520114\n"
     ]
    }
   ],
   "source": [
    "# Step 6: Model Training using XGBoost CLASSIFIER\n",
    "# XGBoost is a powerful gradient boosting algorithm that is efficient and effective for classification tasks.\n",
    "from xgboost import XGBClassifier\n",
    "from sklearn.metrics import precision_score, recall_score, f1_score, accuracy_score\n",
    "\n",
    "# Initialize and train the XGBoost classifier\n",
    "model = XGBClassifier(n_estimators=100, learning_rate=0.1, max_depth=5, random_state=42)\n",
    "# Fit the model on the training data\n",
    "model.fit(X_train, y_train)\n",
    "# Predict on the test data\n",
    "y_pred = model.predict(X_test)\n",
    "\n",
    "# Step 7: Model Evaluation\n",
    "print(\"Accuracy:\", accuracy_score(y_test, y_pred))\n",
    "print(\"Precision:\", precision_score(y_test, y_pred, average=\"macro\"))\n",
    "print(\"Recall:\", recall_score(y_test, y_pred, average=\"macro\"))\n",
    "print(\"F1-Score:\", f1_score(y_test, y_pred, average=\"macro\"))"
   ]
  },
  {
   "cell_type": "markdown",
   "metadata": {},
   "source": [
    "Training RidgeClassifier model"
   ]
  },
  {
   "cell_type": "code",
   "execution_count": null,
   "metadata": {},
   "outputs": [],
   "source": [
    "# TRAINING THE MODEL USING RIDGE CLASSIFIER\n",
    "from sklearn.linear_model import RidgeClassifier\n",
    "from sklearn.metrics import accuracy_score, precision_score, recall_score, f1_score\n",
    "\n",
    "# Initialize and train the Ridge Classifier\n",
    "ridge_model = RidgeClassifier(alpha=1.0)\n",
    "# Fit the model on the training data\n",
    "ridge_model.fit(X_train, y_train)\n",
    "# Predict on the test data\n",
    "ridge_y_pred = ridge_model.predict(X_test)\n",
    "\n",
    "# Evaluate the Ridge Classifier\n",
    "print(\"Ridge Regression Accuracy:\", accuracy_score(y_test, ridge_y_pred))   \n",
    "print(\"Ridge Regression Precision:\", precision_score(y_test, ridge_y_pred, average=\"macro\"))\n",
    "print(\"Ridge Regression Recall:\", recall_score(y_test, ridge_y_pred, average=\"macro\"))\n",
    "print(\"Ridge Regression F1-Score:\", f1_score(y_test, ridge_y_pred, average=\"macro\"))"
   ]
  },
  {
   "cell_type": "markdown",
   "metadata": {},
   "source": [
    "Training RandomForestClassifier model"
   ]
  },
  {
   "cell_type": "code",
   "execution_count": null,
   "metadata": {},
   "outputs": [],
   "source": [
    "# TRAINING THE MODEL USING RANDOM FOREST CLASSIFIER\n",
    "from sklearn.ensemble import RandomForestClassifier\n",
    "from sklearn.metrics import precision_score, recall_score, f1_score, accuracy_score\n",
    "\n",
    "\n",
    "# Initialize and train the Random Forest Classifier\n",
    "rf_model = RandomForestClassifier(n_estimators=200, random_state=42)\n",
    "# Fit the model on the training data\n",
    "rf_model.fit(X_train, y_train)\n",
    "# Predict on the test data\n",
    "y_pred = rf_model.predict(X_test)\n",
    "\n",
    "# Evaluate the Random Forest Classifier\n",
    "print(\"Accuracy:\", accuracy_score(y_test, y_pred))\n",
    "print(\"Precision:\", precision_score(y_test, y_pred, average=\"macro\"))\n",
    "print(\"Recall:\", recall_score(y_test, y_pred, average=\"macro\"))\n",
    "print(\"F1-Score:\", f1_score(y_test, y_pred, average=\"macro\"))"
   ]
  },
  {
   "cell_type": "markdown",
   "metadata": {},
   "source": [
    "Training DecisionTreeClassifier model"
   ]
  },
  {
   "cell_type": "code",
   "execution_count": null,
   "metadata": {},
   "outputs": [],
   "source": [
    "# TRAINING THE MODEL USING DECISION TREE CLASSIFIER\n",
    "from sklearn.tree import DecisionTreeClassifier\n",
    "from sklearn.metrics import precision_score, recall_score, f1_score, accuracy_score\n",
    "\n",
    "# Initialize and train the Decision Tree Classifier\n",
    "dt_model = DecisionTreeClassifier(random_state=42)\n",
    "# Fit the model on the training data\n",
    "dt_model.fit(X_train, y_train)\n",
    "# Predict on the test data\n",
    "y_pred = dt_model.predict(X_test)\n",
    "\n",
    "# Evaluate the Decision Tree Classifier\n",
    "print(\"Accuracy:\", accuracy_score(y_test, y_pred))\n",
    "print(\"Precision:\", precision_score(y_test, y_pred, average=\"macro\"))\n",
    "print(\"Recall:\", recall_score(y_test, y_pred, average=\"macro\"))\n",
    "print(\"F1-Score:\", f1_score(y_test, y_pred, average=\"macro\"))"
   ]
  },
  {
   "cell_type": "markdown",
   "metadata": {},
   "source": [
    "Testing the models by giving **test_sample** data"
   ]
  },
  {
   "cell_type": "code",
   "execution_count": 18,
   "metadata": {},
   "outputs": [
    {
     "name": "stdout",
     "output_type": "stream",
     "text": [
      "🎯 Predicted Best Match Score: 0.00\n"
     ]
    }
   ],
   "source": [
    "# Test Sample\n",
    "test_sample = {\n",
    "    # \"Age\": 23,\n",
    "    # \"Gender\": \"Male\",\n",
    "    # \"Job Roles\": \"Fitness Coach\",\n",
    "    \"Resume\": \"Proficient in Database Management, Troubleshooting, Optimization, Data Security, Database Design, with senior-level experience in the field. Holds a PhD degree. Holds certifications such as CompTIA Data+ Certification. Skilled in delivering results and adapting to dynamic environments.\",\n",
    "    \"Job Description\": \"A Database Administrator (DBA) is responsible for managing and organizing large sets of data, ensuring that they are secure, easily accessible, and optimized for performance. You will design and maintain database systems, conduct backups, and troubleshoot any database issues that arise. The role requires in-depth knowledge of database management systems (DBMS), as well as a strong understanding of security protocols and data recovery techniques. You will work closely with IT teams to ensure that the database infrastructure supports business needs while maintaining efficiency and reliability. Strong attention to detail and problem-solving skills are essential in this role.\"\n",
    "}\n",
    "\n",
    "def is_valid_input(data):\n",
    "    required_fields = [\"Resume\", \"Job Description\"]\n",
    "    for field in required_fields:\n",
    "        if not data.get(field) or str(data[field]).strip() == \"\":\n",
    "            print(f\"❌ Missing or empty input for: {field}\")\n",
    "            return False\n",
    "    return True\n",
    "\n",
    "\n",
    "if is_valid_input(test_sample):\n",
    "    # # Apply same preprocessing as training\n",
    "    # test_sample[\"Gender\"] = preprocess_text(test_sample[\"Gender\"])\n",
    "    # test_sample[\"Job Roles\"] = preprocess_text(test_sample[\"Job Roles\"])\n",
    "    # test_sample[\"Resume\"] = preprocess_text(test_sample[\"Resume\"])\n",
    "    # test_sample[\"Job Description\"] = preprocess_text(test_sample[\"Job Description\"])\n",
    "\n",
    "    # Transform using fitted encoders & vectorizer\n",
    "    # test_gender_encoded = label_encoder_gender.transform([test_sample[\"Gender\"]]).reshape(1, -1)\n",
    "    # test_jobrole_encoded = label_encoder_jobrole.transform([test_sample[\"Job Roles\"]]).reshape(1, -1)\n",
    "    # test_age_scaled = scaler.transform([[test_sample[\"Age\"]]])\n",
    "\n",
    "    test_resume_vec = vectorizer.transform([test_sample[\"Resume\"]]).toarray()\n",
    "    test_jobdesc_vec = vectorizer.transform([test_sample[\"Job Description\"]]).toarray()\n",
    "\n",
    "    # Combine all features\n",
    "    test_features = np.hstack((test_resume_vec, test_jobdesc_vec))\n",
    "\n",
    "    # Predict\n",
    "    prediction = model.predict(test_features)[0]\n",
    "    print(f\"🎯 Predicted Best Match Score: {prediction:.2f}\")\n",
    "else:\n",
    "    print(\"⚠️ Please provide all required input fields for accurate prediction.\")\n",
    "\n",
    "\n"
   ]
  },
  {
   "cell_type": "code",
   "execution_count": 20,
   "metadata": {},
   "outputs": [
    {
     "data": {
      "text/plain": [
       "['model/vectorizer.pkl']"
      ]
     },
     "execution_count": 20,
     "metadata": {},
     "output_type": "execute_result"
    }
   ],
   "source": [
    "import joblib\n",
    "\n",
    "joblib.dump(model, \"model/model.pkl\")\n",
    "joblib.dump(vectorizer, \"model/vectorizer.pkl\")"
   ]
  },
  {
   "cell_type": "code",
   "execution_count": null,
   "metadata": {},
   "outputs": [],
   "source": [
    "# from sklearn.feature_extraction.text import TfidfVectorizer\n",
    "# import joblib\n",
    "# resumes = df[\"Resume\"].tolist()\n",
    "# job_descriptions = df[\"Job Description\"].tolist()\n",
    "# vectorizer = TfidfVectorizer(max_features=5000)\n",
    "# vectorizer.fit(resumes + job_descriptions)\n",
    "\n",
    "# # Save it again import joblib\n",
    "# joblib.dump(vectorizer, \"ResumeScreeningApp/model/vectorizer.pkl\")"
   ]
  },
  {
   "cell_type": "code",
   "execution_count": null,
   "metadata": {},
   "outputs": [],
   "source": [
    "# model.fit(X_train, y_train)\n",
    "# joblib.dump(model, \"ResumeScreeningApp/model/model.pkl\")"
   ]
  }
 ],
 "metadata": {
  "kernelspec": {
   "display_name": "Python 3",
   "language": "python",
   "name": "python3"
  },
  "language_info": {
   "codemirror_mode": {
    "name": "ipython",
    "version": 3
   },
   "file_extension": ".py",
   "mimetype": "text/x-python",
   "name": "python",
   "nbconvert_exporter": "python",
   "pygments_lexer": "ipython3",
   "version": "3.13.2"
  }
 },
 "nbformat": 4,
 "nbformat_minor": 2
}
